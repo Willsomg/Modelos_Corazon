{
 "cells": [
  {
   "cell_type": "markdown",
   "id": "61ec40df",
   "metadata": {},
   "source": [
    "# **Modelo**"
   ]
  },
  {
   "cell_type": "markdown",
   "id": "20e6447c",
   "metadata": {},
   "source": [
    "Vamos a entrenar el modelo, usando MLFlow para el versionamiento"
   ]
  },
  {
   "cell_type": "markdown",
   "id": "1c83e14e",
   "metadata": {},
   "source": [
    "## 1.Librerias y MLFlow"
   ]
  },
  {
   "cell_type": "code",
   "execution_count": 2,
   "id": "3e550191",
   "metadata": {},
   "outputs": [
    {
     "data": {
      "text/plain": [
       "<Experiment: artifact_location=('file:///c:/Users/Javier/Documents/Utpl/Herramientas/Proyecto '\n",
       " 'Corazón/mlruns/828798877481150983'), creation_time=1748045001838, experiment_id='828798877481150983', last_update_time=1748045001838, lifecycle_stage='active', name='corazon', tags={}>"
      ]
     },
     "execution_count": 2,
     "metadata": {},
     "output_type": "execute_result"
    }
   ],
   "source": [
    "#Importamos librerias\n",
    "import os\n",
    "import mlflow\n",
    "\n",
    "# Carpeta local para almacenar los experimentos\n",
    "project_root = os.getcwd()\n",
    "mlruns_path  = os.path.join(project_root, \"mlruns\")\n",
    "os.makedirs(mlruns_path, exist_ok=True)\n",
    "\n",
    "# MLflow en local\n",
    "mlflow.set_tracking_uri(f\"file:///{mlruns_path.replace(os.sep, '/')}\")\n",
    "\n",
    "# Crear o seleccionar experimento\n",
    "experiment_name = \"corazon\"\n",
    "mlflow.set_experiment(experiment_name)"
   ]
  },
  {
   "cell_type": "markdown",
   "id": "f85a6ea5",
   "metadata": {},
   "source": [
    "## 2.Entrenamiento"
   ]
  },
  {
   "cell_type": "markdown",
   "id": "79fae8c7",
   "metadata": {},
   "source": [
    "### 2.1.Entrenar"
   ]
  },
  {
   "cell_type": "code",
   "execution_count": 3,
   "id": "a8eadabd",
   "metadata": {},
   "outputs": [
    {
     "name": "stdout",
     "output_type": "stream",
     "text": [
      "Mapping Result → números: {'negative': np.int64(0), 'positive': np.int64(1)}\n"
     ]
    },
    {
     "name": "stderr",
     "output_type": "stream",
     "text": [
      "2025/05/23 19:07:26 WARNING mlflow.models.model: Model logged without a signature and input example. Please set `input_example` parameter when logging the model to auto infer the model signature.\n"
     ]
    },
    {
     "name": "stdout",
     "output_type": "stream",
     "text": [
      "Accuracy: 0.985\n",
      "              precision    recall  f1-score   support\n",
      "\n",
      "    negative       0.98      0.98      0.98       102\n",
      "    positive       0.99      0.99      0.99       162\n",
      "\n",
      "    accuracy                           0.98       264\n",
      "   macro avg       0.98      0.98      0.98       264\n",
      "weighted avg       0.98      0.98      0.98       264\n",
      "\n"
     ]
    }
   ],
   "source": [
    "import pandas as pd\n",
    "import mlflow\n",
    "import mlflow.sklearn\n",
    "from sklearn.model_selection import train_test_split\n",
    "from sklearn.preprocessing import LabelEncoder, StandardScaler\n",
    "from sklearn.ensemble import RandomForestClassifier\n",
    "from sklearn.metrics import accuracy_score, classification_report\n",
    "\n",
    "# Carga de datos\n",
    "df = pd.read_csv('Data/medical_data.csv')\n",
    "\n",
    "# Definir target y features\n",
    "y = df['Result']                # 'negative' / 'positive'\n",
    "X = df.drop('Result', axis=1)\n",
    "\n",
    "#Codificar target\n",
    "le = LabelEncoder()\n",
    "y_enc = le.fit_transform(y)\n",
    "print(\"Mapping Result → números:\", dict(zip(le.classes_, le.transform(le.classes_))))\n",
    "\n",
    "# Seleccionar y escalar variables numéricas\n",
    "num_cols = [\n",
    "    'Gender',\n",
    "    'CK-MB', 'Troponin', 'Age',\n",
    "    'Heart rate', \n",
    "    'Systolic blood pressure',\n",
    "    'Diastolic blood pressure',\n",
    "    'Blood sugar'\n",
    "]\n",
    "scaler = StandardScaler()\n",
    "X[num_cols] = scaler.fit_transform(X[num_cols])\n",
    "\n",
    "# Dividir en train/test\n",
    "X_train, X_test, y_train, y_test = train_test_split(\n",
    "    X, y_enc,\n",
    "    test_size=0.2,\n",
    "    random_state=42,\n",
    "    stratify=y_enc\n",
    ")\n",
    "\n",
    "# Definir hiperparámetros\n",
    "params = {\n",
    "    \"n_estimators\": 100,\n",
    "    \"max_depth\": 10,\n",
    "    \"min_samples_split\": 5,\n",
    "    \"random_state\": 42\n",
    "}\n",
    "\n",
    "# Entrenamiento y logging en MLflow\n",
    "with mlflow.start_run(run_name=\"rf_medical\"):\n",
    "    mlflow.log_params(params)\n",
    "    \n",
    "    clf = RandomForestClassifier(**params)\n",
    "    clf.fit(X_train, y_train)\n",
    "    \n",
    "    y_pred = clf.predict(X_test)\n",
    "    acc = accuracy_score(y_test, y_pred)\n",
    "    mlflow.log_metric(\"accuracy\", acc)\n",
    "    \n",
    "    report = classification_report(y_test, y_pred, output_dict=True)\n",
    "    for cls, metrics in report.items():\n",
    "        if cls in le.classes_:\n",
    "            mlflow.log_metric(f\"f1_{cls}\", metrics[\"f1-score\"])\n",
    "    \n",
    "    mlflow.sklearn.log_model(clf, artifact_path=\"rf_medical_model\")\n",
    "\n",
    "# Informe de resultados\n",
    "print(f\"Accuracy: {acc:.3f}\")\n",
    "print(classification_report(y_test, y_pred, target_names=le.classes_))\n"
   ]
  },
  {
   "cell_type": "markdown",
   "id": "1fdf073e",
   "metadata": {},
   "source": [
    "## 3.Abrir MLFlow\n",
    "Es necesario ejecutar este codigo para abrir MLFlow y poder ejecutar app sin problemas"
   ]
  },
  {
   "cell_type": "code",
   "execution_count": 3,
   "id": "efca00d6",
   "metadata": {},
   "outputs": [
    {
     "name": "stdout",
     "output_type": "stream",
     "text": [
      "✔ MLflow UI arrancado en http://localhost:9090\n"
     ]
    }
   ],
   "source": [
    "# Libreria\n",
    "import subprocess\n",
    "\n",
    "# Construye la ruta absoluta a mlruns (convierte '\\' en '/')\n",
    "project_root = os.getcwd()\n",
    "mlruns_path  = os.path.join(project_root, \"mlruns\").replace(\"\\\\\", \"/\")\n",
    "\n",
    "# Monta el comando tal cual lo harías en la terminal\n",
    "cmd = [\n",
    "    \"mlflow\", \"ui\",\n",
    "    \"--backend-store-uri\",    f\"file:///{mlruns_path}\",\n",
    "    \"--default-artifact-root\",f\"file:///{mlruns_path}\",\n",
    "    \"--port\",                 \"9090\"\n",
    "]\n",
    "\n",
    "# Lanza el proceso en background\n",
    "# stdout/stderr se envían a pipes; no bloquea la ejecución de la celda\n",
    "process = subprocess.Popen(cmd, stdout=subprocess.PIPE, stderr=subprocess.PIPE)\n",
    "\n",
    "print(\"✔ MLflow UI arrancado en http://localhost:9090\")"
   ]
  }
 ],
 "metadata": {
  "kernelspec": {
   "display_name": "mi_entorno",
   "language": "python",
   "name": "python3"
  },
  "language_info": {
   "codemirror_mode": {
    "name": "ipython",
    "version": 3
   },
   "file_extension": ".py",
   "mimetype": "text/x-python",
   "name": "python",
   "nbconvert_exporter": "python",
   "pygments_lexer": "ipython3",
   "version": "3.12.10"
  }
 },
 "nbformat": 4,
 "nbformat_minor": 5
}
